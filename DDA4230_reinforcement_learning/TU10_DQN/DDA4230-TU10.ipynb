{
 "cells": [
  {
   "cell_type": "markdown",
   "metadata": {},
   "source": [
    "# DDA 4230 Tutorial 10"
   ]
  },
  {
   "cell_type": "markdown",
   "metadata": {},
   "source": [
    "## Section 0:  Outline\n",
    "1. Overview of RL Algorithms\n",
    "2. DQN\n"
   ]
  },
  {
   "cell_type": "code",
   "execution_count": 1,
   "metadata": {},
   "outputs": [],
   "source": [
    "from collections import namedtuple\n",
    "import numpy as np\n",
    "import matplotlib.pyplot as plt\n",
    "from tqdm import tqdm\n",
    "import gym\n",
    "import torch\n",
    "import torch.nn as nn\n",
    "import torch.nn.functional as F\n",
    "import torch.optim as optim\n",
    "from torch.utils.data.sampler import BatchSampler, SubsetRandomSampler"
   ]
  },
  {
   "cell_type": "markdown",
   "metadata": {},
   "source": [
    "## Section 1: Overview of RL Algorithms\n",
    "<img src=\"https://i.loli.net/2021/04/19/PAG6mKN2ckL9Yx8.jpg\" style=\"width: 800px;\" center/>\n",
    "<h3 style=\"text-align:center\">Classification of RL ALgorithms from A.T.D.Perera </h3>\n",
    "Up to now, we have learned:\n",
    "\n",
    "### Tabular Methods:\n",
    "* Value Iteration\n",
    "* Policy Iteration\n",
    "* Q-learning\n",
    "* SARSA\n",
    "* TD($\\lambda$)\n",
    "\n",
    "### Approximation Methods:\n",
    "* REINFORCE \n",
    "* REINFORCE with Baselines\n",
    "* Actor Critic\n",
    "* DQN\n"
   ]
  },
  {
   "cell_type": "markdown",
   "metadata": {},
   "source": [
    "## Section 2: DQN"
   ]
  },
  {
   "cell_type": "markdown",
   "metadata": {},
   "source": [
    "### CartPole\n",
    "Consider the CartPole problem.  A pole is attached by an un-actuated joint to a cart, which moves along a frictionless track. The system is controlled by applying a force of $+1$ or $-1$ to the cart. The pendulum starts upright, and the goal is to prevent it from falling over. A reward of $+1$ is provided for every timestep that the pole remains upright. The episode ends when the pole is more than $15$ degrees from vertical, or the cart moves more than $2.4$ units from the center. The state space is continuous and each state is a tuple of cart position, cart velocity, pole angle, and pole angular velocity. There are 2 discrete deterministic actions: Left and Right.\n",
    "\n",
    "Note: CartPole-v0 defines \"solving\" as getting average undiscounted return of 195.0 over 100 consecutive trials\n",
    "\t\t"
   ]
  },
  {
   "cell_type": "markdown",
   "metadata": {},
   "source": [
    "### DQN\n",
    "Q-Learning is an off-policy algorithm that learns about the greedy policy $a = \\max_{a} Q(s, a; \\theta)$ while using a different behaviour policy for acting in the environment/collecting data. This behaviour policy is usually an $\\epsilon$-greedy policy that selects the greedy action with probability $1-\\epsilon$ and a random action with probability $\\epsilon$ to ensure good coverage of the state-action space.\n",
    "\n",
    "\n",
    "To avoid computing the full expectation in the DQN loss, we can minimize it using stochastic gradient descent. If the loss is computed using just the last transition ${s, a, r, s'}$, this reduces to standard Q-Learning.\n"
   ]
  },
  {
   "cell_type": "markdown",
   "metadata": {},
   "source": [
    "<img src=\"https://i.loli.net/2021/04/19/3tdZj5Wbu7A2avO.png\" style=\"width: 800px;\" center/>"
   ]
  },
  {
   "cell_type": "code",
   "execution_count": 2,
   "metadata": {},
   "outputs": [],
   "source": [
    "class Net(nn.Module):\n",
    "    # A Simple Q Network\n",
    "    def __init__(self, dim_state, n_action):\n",
    "        super(Net, self).__init__()\n",
    "        self.fc1 = nn.Linear(dim_state, 128)\n",
    "        self.fc2 = nn.Linear(128, n_action)\n",
    "\n",
    "    def forward(self, x):\n",
    "        x = torch.tanh(self.fc1(x))\n",
    "        action_value = self.fc2(x)\n",
    "        return action_value"
   ]
  },
  {
   "cell_type": "code",
   "execution_count": 3,
   "metadata": {},
   "outputs": [],
   "source": [
    "class DQN():\n",
    "\n",
    "    def __init__(self, capacity, learning_rate, batch_size, gamma, dim_state, n_action):\n",
    "        super(DQN, self).__init__()\n",
    "        self.capacity = capacity\n",
    "        self.learning_rate = learning_rate\n",
    "        self.batch_size = batch_size\n",
    "        self.gamma = gamma\n",
    "        self.n_action = n_action\n",
    "        self.dim_state = dim_state\n",
    "\n",
    "        self.target_net, self.act_net = Net(\n",
    "            dim_state, n_action), Net(dim_state, n_action)\n",
    "        self.memory = [None]*self.capacity\n",
    "        self.optimizer = optim.Adam(\n",
    "            self.act_net.parameters(), self.learning_rate)\n",
    "        self.loss_func = nn.MSELoss()\n",
    "\n",
    "        self.memory_count = 0\n",
    "        self.update_count = 0\n",
    "\n",
    "    def select_action(self, state):\n",
    "        state = torch.tensor(state, dtype=torch.float).unsqueeze(0)\n",
    "        value = self.act_net(state)\n",
    "        action_max_value, index = torch.max(value, 1)\n",
    "        action = index.item()\n",
    "        if np.random.rand(1) >= 0.9:  # epslion greedy\n",
    "            action = np.random.choice(range(self.n_action), 1).item()\n",
    "        return action\n",
    "\n",
    "    def store_transition(self, transition):\n",
    "        index = self.memory_count % self.capacity\n",
    "        self.memory[index] = transition\n",
    "        self.memory_count += 1\n",
    "        return self.memory_count >= self.capacity\n",
    "\n",
    "    def update(self):\n",
    "        if self.memory_count >= self.capacity:\n",
    "            state = torch.tensor([t.state for t in self.memory]).float()\n",
    "            action = torch.LongTensor(\n",
    "                [t.action for t in self.memory]).view(-1, 1).long()\n",
    "            reward = torch.tensor([t.reward for t in self.memory]).float()\n",
    "            next_state = torch.tensor(\n",
    "                [t.next_state for t in self.memory]).float()\n",
    "            done = torch.tensor(\n",
    "                [t.done for t in self.memory]).float()\n",
    "\n",
    "            #reward = (reward - reward.mean()) / (reward.std() + 1e-7)\n",
    "            with torch.no_grad():\n",
    "                target_v = reward + (1-done)*self.gamma * \\\n",
    "                    self.target_net(next_state).max(1)[0]\n",
    "\n",
    "            # Update...\n",
    "            for index in BatchSampler(SubsetRandomSampler(range(len(self.memory))), batch_size=self.batch_size, drop_last=False):\n",
    "                v = (self.act_net(state).gather(1, action))[index]\n",
    "                loss = self.loss_func(target_v[index].unsqueeze(\n",
    "                    1), (self.act_net(state).gather(1, action))[index])\n",
    "                self.optimizer.zero_grad()\n",
    "                loss.backward()\n",
    "                self.optimizer.step()\n",
    "                self.update_count += 1\n",
    "                if self.update_count % 100 == 0:\n",
    "                    self.target_net.load_state_dict(self.act_net.state_dict())\n",
    "        else:\n",
    "            pass"
   ]
  },
  {
   "cell_type": "code",
   "execution_count": 5,
   "metadata": {},
   "outputs": [
    {
     "name": "stderr",
     "output_type": "stream",
     "text": [
      "100%|██████████| 1000/1000 [10:16<00:00,  1.62it/s]\n"
     ]
    },
    {
     "data": {
      "image/png": "[encoded data removed]",
      "text/plain": [
       "<Figure size 432x288 with 1 Axes>"
      ]
     },
     "metadata": {
      "needs_background": "light"
     },
     "output_type": "display_data"
    },
    {
     "data": {
      "image/png": "[encoded data removed]",
      "text/plain": [
       "<Figure size 432x288 with 1 Axes>"
      ]
     },
     "metadata": {
      "needs_background": "light"
     },
     "output_type": "display_data"
    }
   ],
   "source": [
    "# Hyper-parameters\n",
    "seed = 1\n",
    "num_episodes = 1000\n",
    "env = gym.make('CartPole-v0')\n",
    "n_action = env.action_space.n\n",
    "dim_state = env.observation_space.shape[0]\n",
    "\n",
    "torch.manual_seed(seed)\n",
    "env.seed(seed)\n",
    "\n",
    "# Replay Buffer\n",
    "Transition = namedtuple(\n",
    "    'Transition', ['state', 'action', 'reward', 'next_state', 'done'])\n",
    "\n",
    "capacity = 8000\n",
    "learning_rate = 1e-3\n",
    "batch_size = 256\n",
    "gamma = 0.995\n",
    "\n",
    "agent = DQN(capacity=capacity, learning_rate=learning_rate,\n",
    "            batch_size=batch_size, gamma=gamma, dim_state=dim_state, n_action=n_action)\n",
    "return_list = []  \n",
    "\n",
    "for i_ep in tqdm(range(num_episodes)):\n",
    "    state = env.reset()\n",
    "    total_return = 0\n",
    "    for t in range(200):\n",
    "        # Choose Action\n",
    "        action = agent.select_action(state)\n",
    "        \n",
    "        # Step in Env\n",
    "        next_state, reward, done, info = env.step(action)\n",
    "        total_return += reward\n",
    "        \n",
    "        # Add transition to Buffer\n",
    "        transition = Transition(state, action, reward, next_state, float(done))\n",
    "        agent.store_transition(transition)\n",
    "        state = next_state\n",
    "        \n",
    "        if done or t >= 199:\n",
    "            # To facilitate our training, update per episode.\n",
    "            agent.update()\n",
    "            break\n",
    "    return_list.append(total_return)\n",
    "plt.plot(return_list)\n",
    "plt.xlabel('Training Episode')\n",
    "plt.ylabel('Uncounted Return')\n",
    "plt.savefig('CartPole_DQN.png')\n",
    "plt.show()\n",
    "plt.close()\n",
    "moving_average = [np.mean(return_list[i:(i+100)])\n",
    "                  for i in range(num_episodes-100)]\n",
    "plt.plot(moving_average)\n",
    "plt.xlabel('Training Episode')\n",
    "plt.ylabel('Average Return')\n",
    "plt.savefig('CartPole_DQN_Average.png')\n",
    "plt.show()\n",
    "plt.close()"
   ]
  }
 ],
 "metadata": {
  "kernelspec": {
   "display_name": "Tianshou",
   "language": "python",
   "name": "ts"
  },
  "language_info": {
   "codemirror_mode": {
    "name": "ipython",
    "version": 3
   },
   "file_extension": ".py",
   "mimetype": "text/x-python",
   "name": "python",
   "nbconvert_exporter": "python",
   "pygments_lexer": "ipython3",
   "version": "3.6.11"
  }
 },
 "nbformat": 4,
 "nbformat_minor": 4
}
