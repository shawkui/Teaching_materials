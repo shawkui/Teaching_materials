{
 "cells": [
  {
   "cell_type": "markdown",
   "metadata": {},
   "source": [
    "# DDA 4230 Tutorial 9"
   ]
  },
  {
   "cell_type": "markdown",
   "metadata": {},
   "source": [
    "## Section 0:  Outline\n",
    "1. Policy Approximation with Parametrization\n",
    "2. Policy Gradient\n"
   ]
  },
  {
   "cell_type": "code",
   "execution_count": 1,
   "metadata": {},
   "outputs": [],
   "source": [
    "import torch.nn as nn\n",
    "import torch\n",
    "import gym\n",
    "import numpy as np\n",
    "import matplotlib\n",
    "import matplotlib.pyplot as plt\n",
    "from gridWorldGame import standard_grid, negative_grid,print_values, print_policy"
   ]
  },
  {
   "cell_type": "markdown",
   "metadata": {},
   "source": [
    "## Section 1: Policy Approximation with Parametrization"
   ]
  },
  {
   "cell_type": "markdown",
   "metadata": {},
   "source": [
    "### 1.1 Discrete Policy Approximation\n",
    "When action space is discrete\n",
    "$$\\pi(a|s,\\theta)=\\frac{\\exp(h(a,s,\\theta))}{\\sum_{a'}\\exp(h(a',s,\\theta))}$$\n",
    "where $h(a,s,\\theta)$ is the preference function. \n",
    "\n",
    "A typical preference function is\n",
    "$$h(a,s,\\theta)=\\theta^Tx(a,s)$$\n",
    "where $x(s,a)$ is the feature vector discussed in TU8."
   ]
  },
  {
   "cell_type": "code",
   "execution_count": 2,
   "metadata": {},
   "outputs": [],
   "source": [
    "def softmax(x):\n",
    "    t = np.exp(x - np.max(x))\n",
    "    return t / np.sum(t)\n",
    "\n",
    "def categorical_sample(prob_n):\n",
    "    \"\"\"\n",
    "    Sample from categorical distribution\n",
    "    Each row specifies class probabilities\n",
    "    \"\"\"\n",
    "    prob_n = np.asarray(prob_n)\n",
    "    csprob_n = np.cumsum(prob_n)\n",
    "    return (csprob_n > np.random.rand()).argmax()"
   ]
  },
  {
   "cell_type": "code",
   "execution_count": 3,
   "metadata": {},
   "outputs": [],
   "source": [
    "class GridDiscretePolicy:\n",
    "    '''\n",
    "    Naive Discrete Policy for negative_grid Environment\n",
    "    '''\n",
    "    def __init__(self):\n",
    "        self.theta = np.random.randn(25) / np.sqrt(25)\n",
    "\n",
    "    def sa2x(self, s, a):\n",
    "        # x(s,a)\n",
    "        return np.array([\n",
    "        s[0] - 1              if a == 'U' else 0,\n",
    "        s[1] - 1.5            if a == 'U' else 0,\n",
    "        (s[0]*s[1] - 3)/3     if a == 'U' else 0,\n",
    "        (s[0]*s[0] - 2)/2     if a == 'U' else 0,\n",
    "        (s[1]*s[1] - 4.5)/4.5 if a == 'U' else 0,\n",
    "        1                     if a == 'U' else 0,\n",
    "        s[0] - 1              if a == 'D' else 0,\n",
    "        s[1] - 1.5            if a == 'D' else 0,\n",
    "        (s[0]*s[1] - 3)/3     if a == 'D' else 0,\n",
    "        (s[0]*s[0] - 2)/2     if a == 'D' else 0,\n",
    "        (s[1]*s[1] - 4.5)/4.5 if a == 'D' else 0,\n",
    "        1                     if a == 'D' else 0,\n",
    "        s[0] - 1              if a == 'L' else 0,\n",
    "        s[1] - 1.5            if a == 'L' else 0,\n",
    "        (s[0]*s[1] - 3)/3     if a == 'L' else 0,\n",
    "        (s[0]*s[0] - 2)/2     if a == 'L' else 0,\n",
    "        (s[1]*s[1] - 4.5)/4.5 if a == 'L' else 0,\n",
    "        1                     if a == 'L' else 0,\n",
    "        s[0] - 1              if a == 'R' else 0,\n",
    "        s[1] - 1.5            if a == 'R' else 0,\n",
    "        (s[0]*s[1] - 3)/3     if a == 'R' else 0,\n",
    "        (s[0]*s[0] - 2)/2     if a == 'R' else 0,\n",
    "        (s[1]*s[1] - 4.5)/4.5 if a == 'R' else 0,\n",
    "        1                     if a == 'R' else 0,\n",
    "        1\n",
    "      ])\n",
    "\n",
    "    def select_action(self, s):\n",
    "        # Given state s, return the selected action\n",
    "        h_a_s_list = []\n",
    "        for a in ALL_POSSIBLE_ACTIONS:\n",
    "            x = self.sa2x(s, a)\n",
    "            # h(a,s,theta)\n",
    "            h_a_s = self.theta.dot(x)\n",
    "            h_a_s_list.append(h_a_s)\n",
    "        # pi(a|s,theta)\n",
    "        pi = softmax(h_a_s_list)\n",
    "        # sample action\n",
    "        action = categorical_sample(pi)\n",
    "        return ALL_POSSIBLE_ACTIONS[action]\n",
    "\n"
   ]
  },
  {
   "cell_type": "code",
   "execution_count": 4,
   "metadata": {},
   "outputs": [
    {
     "name": "stdout",
     "output_type": "stream",
     "text": [
      "Rewards Map:\n",
      "---------------------------\n",
      "-0.10|-0.10|-0.10| 1.00|\n",
      "---------------------------\n",
      "-0.10| 0.00|-0.10|-1.00|\n",
      "---------------------------\n",
      "-0.10|-0.10|-0.10|-0.10|\n"
     ]
    }
   ],
   "source": [
    "SMALL_ENOUGH = 1e-3\n",
    "GAMMA = 0.9\n",
    "ALL_POSSIBLE_ACTIONS = ('U', 'D', 'L', 'R')\n",
    "ALPHA = 0.1\n",
    "SA2IDX = {}\n",
    "IDX = 0\n",
    "\n",
    "grid = negative_grid(step_cost=-0.1)\n",
    "print(\"Rewards Map:\")\n",
    "print_values(grid.rewards, grid)"
   ]
  },
  {
   "cell_type": "code",
   "execution_count": 5,
   "metadata": {},
   "outputs": [
    {
     "name": "stdout",
     "output_type": "stream",
     "text": [
      "(0,1), D->(2,0), D->(2,0), R->(2,1), D->(2,1), R->(2,2), L->(2,1), U->(2,1), L->(2,0), R->(2,1), U->(2, 1)\n"
     ]
    }
   ],
   "source": [
    "policy=GridDiscretePolicy()\n",
    "s=(0,1)\n",
    "for t in range(10):\n",
    "    a=policy.select_action(s)\n",
    "    print('(%d,%d), %s'%(s[0],s[1],a),end='->')\n",
    "    r = grid.move(a)\n",
    "    s = grid.current_state()\n",
    "print(s)"
   ]
  },
  {
   "cell_type": "markdown",
   "metadata": {},
   "source": [
    "### Torch Version"
   ]
  },
  {
   "cell_type": "code",
   "execution_count": 6,
   "metadata": {},
   "outputs": [],
   "source": [
    "class DiscretePolicy(nn.Module):\n",
    "    def __init__(self, state_dim, action_num, hidden_size=(128, 128), activation='tanh'):\n",
    "        super().__init__()\n",
    "        self.is_disc_action = True\n",
    "        if activation == 'tanh':\n",
    "            self.activation = torch.tanh\n",
    "        elif activation == 'relu':\n",
    "            self.activation = torch.relu\n",
    "        elif activation == 'sigmoid':\n",
    "            self.activation = torch.sigmoid\n",
    "\n",
    "        self.affine_layers = nn.ModuleList()\n",
    "        last_dim = state_dim\n",
    "        for nh in hidden_size:\n",
    "            self.affine_layers.append(nn.Linear(last_dim, nh))\n",
    "            last_dim = nh\n",
    "\n",
    "        self.action_head = nn.Linear(last_dim, action_num)\n",
    "        self.action_head.weight.data.mul_(0.1)\n",
    "        self.action_head.bias.data.mul_(0.0)\n",
    "\n",
    "    def forward(self, x):\n",
    "        for affine in self.affine_layers:\n",
    "            x = self.activation(affine(x))\n",
    "        action_prob = torch.softmax(self.action_head(x), dim=1)\n",
    "        return action_prob\n",
    "\n",
    "    def select_action(self, x):\n",
    "        # given feature vector, return action index\n",
    "        action_prob = self.forward(x)\n",
    "        action = action_prob.multinomial(1)\n",
    "        return action\n"
   ]
  },
  {
   "cell_type": "markdown",
   "metadata": {},
   "source": [
    "### 1.2 Continuous Policy Approximation\n",
    "For continuous case, the policy can be defined as the normal probability density over a real-valued scalar action, with mean and standard deviation given by parametric function approximators\n",
    "$$\\pi(a|s,\\theta)=\\frac{1}{\\sigma(s,\\theta_{\\sigma})\\sqrt{2\\pi}}\\exp\\left(-\\frac{(a-\\mu(s,\\theta_{\\mu}))^2}{2\\sigma(s,\\theta_{\\sigma})^2}\\right)$$\n",
    "where $\\theta=[\\theta_{\\mu}, \\theta_{\\sigma}]$.\n",
    "\n",
    "A typical function of mean and standard deviation is\n",
    "$$\\mu(s,\\theta)=\\theta_{\\mu}^Tx_{\\mu}(s)$$\n",
    "$$\\sigma(s,\\theta)=\\exp(\\theta_{\\sigma}) $$\n",
    "Sometimes, we use\n",
    "$$\\sigma(s,\\theta)=\\exp(\\theta_{\\sigma}^Tx_{\\sigma}(s)) $$\n",
    "\n",
    "Why do we model $\\sigma(s,\\theta)$ as an exponential function?\n"
   ]
  },
  {
   "cell_type": "code",
   "execution_count": 7,
   "metadata": {},
   "outputs": [],
   "source": [
    "class ContinuousPolicy(nn.Module):\n",
    "    def __init__(self, state_dim, action_dim, hidden_size=(128, 128), activation='tanh', log_std=0):\n",
    "        super().__init__()\n",
    "        self.is_disc_action = False\n",
    "        if activation == 'tanh':\n",
    "            self.activation = torch.tanh\n",
    "        elif activation == 'relu':\n",
    "            self.activation = torch.relu\n",
    "        elif activation == 'sigmoid':\n",
    "            self.activation = torch.sigmoid\n",
    "\n",
    "        self.affine_layers = nn.ModuleList()\n",
    "        last_dim = state_dim\n",
    "        for nh in hidden_size:\n",
    "            self.affine_layers.append(nn.Linear(last_dim, nh))\n",
    "            last_dim = nh\n",
    "\n",
    "        self.action_mean = nn.Linear(last_dim, action_dim)\n",
    "        self.action_mean.weight.data.mul_(0.1)\n",
    "        self.action_mean.bias.data.mul_(0.0)\n",
    "        self.action_log_std = nn.Parameter(torch.ones(1, action_dim) * log_std)\n",
    "\n",
    "    def forward(self, x):\n",
    "        for affine in self.affine_layers:\n",
    "            x = self.activation(affine(x))\n",
    "\n",
    "        action_mean = self.action_mean(x)\n",
    "        action_log_std = self.action_log_std.expand_as(action_mean)\n",
    "        action_std = torch.exp(action_log_std)\n",
    "\n",
    "        return action_mean, action_log_std, action_std\n",
    "\n",
    "    def select_action(self, x):\n",
    "        # given feature vector, return action vector\n",
    "        action_mean, _, action_std = self.forward(x)\n",
    "        action = torch.normal(action_mean, action_std)\n",
    "        return action\n"
   ]
  },
  {
   "cell_type": "markdown",
   "metadata": {},
   "source": [
    "## Section 2: Policy Gradient & REINFORCE"
   ]
  },
  {
   "cell_type": "markdown",
   "metadata": {},
   "source": [
    "### 2.1 REINFORCE\n",
    "![image.png](https://i.loli.net/2021/04/11/CjHomPI4gAUntXK.png)"
   ]
  },
  {
   "cell_type": "markdown",
   "metadata": {},
   "source": [
    "A Trick: compute return in a reverse order."
   ]
  },
  {
   "cell_type": "code",
   "execution_count": 8,
   "metadata": {},
   "outputs": [],
   "source": [
    "class REINFORCE():\n",
    "    def __init__(self, n_state, n_action, device='cpu'):\n",
    "        self.policy_net = DiscretePolicy(\n",
    "            state_dim=n_state, action_num=n_action).to(device)\n",
    "        self.g = 0\n",
    "        self.optimizer = torch.optim.Adam(\n",
    "            self.policy_net.parameters(), lr=0.0001)\n",
    "\n",
    "    def choose_action(self, s):\n",
    "        action = self.policy_net.select_action(s).cpu()[0, 0].numpy()\n",
    "        return action\n",
    "\n",
    "    def learn(self, transition):\n",
    "        timestep = len(transition)\n",
    "        loss = 0\n",
    "        returns = torch.zeros(timestep, 1)\n",
    "        log_prob = torch.zeros(timestep, 1)\n",
    "        self.g = 0\n",
    "        for i in reversed(range(timestep)):\n",
    "            s = torch.FloatTensor(transition[i, 0]).view(1, -1).to(device)\n",
    "            a = transition[i, 1][0]\n",
    "            r = transition[i, 2][0]\n",
    "            log_prob[i] = torch.log(self.policy_net(s))[0, a]\n",
    "            self.g = gamma*self.g+r\n",
    "            returns[i] = self.g\n",
    "        loss = -(log_prob*returns.detach()).sum()\n",
    "        self.optimizer.zero_grad()\n",
    "        loss.backward()\n",
    "        self.optimizer.step()\n"
   ]
  },
  {
   "cell_type": "markdown",
   "metadata": {},
   "source": [
    "A pole is attached by an un-actuated joint to a cart, which moves along a frictionless track. The system is controlled by applying a force of +1 or -1 to the cart. The pendulum starts upright, and the goal is to prevent it from falling over. A reward of +1 is provided for every timestep that the pole remains upright. The episode ends when the pole is more than 15 degrees from vertical, or the cart moves more than 2.4 units from the center."
   ]
  },
  {
   "cell_type": "code",
   "execution_count": 9,
   "metadata": {
    "scrolled": true
   },
   "outputs": [
    {
     "name": "stderr",
     "output_type": "stream",
     "text": [
      "/home/wsk/anaconda3/envs/ts/lib/python3.6/site-packages/numpy/core/_asarray.py:136: VisibleDeprecationWarning: Creating an ndarray from ragged nested sequences (which is a list-or-tuple of lists-or-tuples-or ndarrays with different lengths or shapes) is deprecated. If you meant to do this, you must specify 'dtype=object' when creating the ndarray\n",
      "  return array(a, dtype, copy=False, order=order, subok=True)\n"
     ]
    },
    {
     "name": "stdout",
     "output_type": "stream",
     "text": [
      "Episode:0,total score:16.0\n",
      "Episode:100,total score:15.0\n",
      "Episode:200,total score:30.0\n",
      "Episode:300,total score:45.0\n",
      "Episode:400,total score:40.0\n",
      "Episode:500,total score:31.0\n",
      "Episode:600,total score:30.0\n",
      "Episode:700,total score:32.0\n",
      "Episode:800,total score:145.0\n",
      "Episode:900,total score:40.0\n"
     ]
    }
   ],
   "source": [
    "gamma = 0.9\n",
    "device = 'cpu'\n",
    "np.random.seed(1)\n",
    "torch.manual_seed(1)\n",
    "\n",
    "env = gym.make('CartPole-v0')\n",
    "env = env.unwrapped\n",
    "n_action = env.action_space.n\n",
    "n_state = env.observation_space.shape[0]\n",
    "\n",
    "reinforce = REINFORCE(n_state=n_state, n_action=n_action, device=device)\n",
    "\n",
    "reward_list = []\n",
    "for episode in range(1000):\n",
    "    t = 0\n",
    "    s = env.reset()\n",
    "    transition = np.array([])\n",
    "    total_reward = 0\n",
    "    while(t < 300):\n",
    "        # Collect Data\n",
    "        s_tensor = torch.FloatTensor(s).to(device)\n",
    "        s_tensor = s_tensor.view(1, -1)\n",
    "        a = reinforce.choose_action(s_tensor)\n",
    "        s_, r, done, _ = env.step(a)\n",
    "        total_reward += r\n",
    "        trans = [s, [a], [r]]\n",
    "        if t == 0:\n",
    "            transition = trans\n",
    "        else:\n",
    "            transition = np.vstack((transition, trans))\n",
    "        if done:\n",
    "            break\n",
    "        s = s_\n",
    "        t += 1\n",
    "    reinforce.learn(transition)\n",
    "    reward_list.append(total_reward)\n",
    "    if episode % 100 == 0:\n",
    "        print(\"Episode:\"+format(episode)+\",total score:\"+format(total_reward))\n"
   ]
  },
  {
   "cell_type": "code",
   "execution_count": 10,
   "metadata": {},
   "outputs": [
    {
     "data": {
      "image/png": "[encoded data removed]",
      "text/plain": [
       "<Figure size 432x288 with 1 Axes>"
      ]
     },
     "metadata": {
      "needs_background": "light"
     },
     "output_type": "display_data"
    }
   ],
   "source": [
    "plt.plot(reward_list)\n",
    "plt.show()"
   ]
  },
  {
   "cell_type": "code",
   "execution_count": null,
   "metadata": {},
   "outputs": [],
   "source": []
  }
 ],
 "metadata": {
  "kernelspec": {
   "display_name": "Tianshou",
   "language": "python",
   "name": "ts"
  },
  "language_info": {
   "codemirror_mode": {
    "name": "ipython",
    "version": 3
   },
   "file_extension": ".py",
   "mimetype": "text/x-python",
   "name": "python",
   "nbconvert_exporter": "python",
   "pygments_lexer": "ipython3",
   "version": "3.6.11"
  }
 },
 "nbformat": 4,
 "nbformat_minor": 4
}
