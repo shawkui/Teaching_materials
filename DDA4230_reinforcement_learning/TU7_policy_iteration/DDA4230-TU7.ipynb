{
 "cells": [
  {
   "cell_type": "markdown",
   "metadata": {},
   "source": [
    "# DDA 4230 Tutorial 6"
   ]
  },
  {
   "cell_type": "markdown",
   "metadata": {},
   "source": [
    "## Section 0:  Outline\n",
    "1. Implement Grid World Environment\n",
    "2. Implement & test Policy Iteration\n",
    "3. Implement & test Value Iteration\n",
    "4. Exercise\n"
   ]
  },
  {
   "cell_type": "code",
   "execution_count": 1,
   "metadata": {},
   "outputs": [],
   "source": [
    "import numpy as np\n",
    "import matplotlib.pyplot as plt\n",
    "import gym\n",
    "from matplotlib.table import Table\n"
   ]
  },
  {
   "cell_type": "markdown",
   "metadata": {},
   "source": [
    "## Section 1: Grid World \n",
    "<img src=\"https://i.loli.net/2021/03/23/ygEjuQSFobDdf1l.png\" style=\"width: 800px;\" center/>\n",
    "<h3 style=\"text-align:right\">From Example 4.1 in Reinforcement Learning: An Introduction </h3>\n",
    "\n",
    "State Space: {1,2,3,...,14}\n",
    "\n",
    "Action Space: {Left, Up, Right, Down}\n",
    "\n",
    "Reward: -1 for all transitions"
   ]
  },
  {
   "cell_type": "code",
   "execution_count": 2,
   "metadata": {},
   "outputs": [],
   "source": [
    "class GridWorld:\n",
    "    '''\n",
    "    A Gym-style GridWorld Environment\n",
    "    '''\n",
    "\n",
    "    def __init__(self, world_size=4):\n",
    "        self.world_size = world_size\n",
    "        # left, up, right, down\n",
    "        self.actions = [np.array([0, -1]),\n",
    "                        np.array([-1, 0]),\n",
    "                        np.array([0, 1]),\n",
    "                        np.array([1, 0])]\n",
    "        self.nS = world_size*world_size\n",
    "        self.nA = 4\n",
    "        self.reset()\n",
    "        self.P = self.create_P()\n",
    "\n",
    "    def create_P(self):\n",
    "        '''\n",
    "        In general, we need construct P first and build 'step' based on P. \n",
    "        Here we build 'step' first for convenience.\n",
    "        '''\n",
    "        P = {state: {action: []\n",
    "                     for action in range(self.nA)} for state in range(self.nS)}\n",
    "        for state in range(self.nS):\n",
    "            for action in range(self.nA):\n",
    "                next_state, reward = self.act(state, action)\n",
    "                done = self.is_terminal(next_state)\n",
    "                info = dict()\n",
    "                P[state][action].append((1.0, next_state, reward, done))\n",
    "        return P\n",
    "\n",
    "    def encode(self, cell_state):\n",
    "        x, y = cell_state\n",
    "        return x*self.world_size+y\n",
    "\n",
    "    def decode(self, state):\n",
    "        return [state//self.world_size, state % self.world_size]\n",
    "\n",
    "    def reset(self):\n",
    "        self.state = 1\n",
    "\n",
    "    def is_terminal(self, state=None):\n",
    "        if not (state is None):\n",
    "            x, y = self.decode(state)\n",
    "        else:\n",
    "            x, y = self.decode(self.state)\n",
    "        return (x == 0 and y == 0) or (x == self.world_size - 1 and y == self.world_size - 1)\n",
    "\n",
    "    def act(self, state, action):\n",
    "        cell_state = self.decode(state)\n",
    "        action = self.actions[action]\n",
    "        if self.is_terminal(state):\n",
    "            return state, 0\n",
    "        next_cell_state = (np.array(cell_state) + action).tolist()\n",
    "        x, y = next_cell_state\n",
    "        if x < 0 or x >= self.world_size or y < 0 or y >= self.world_size:\n",
    "            next_cell_state = cell_state\n",
    "        reward = -1\n",
    "        return self.encode(next_cell_state), reward\n",
    "\n",
    "    def step(self, action):\n",
    "        next_state, reward = self.act(self.state, action)\n",
    "        self.state = next_state\n",
    "        return next_state, reward\n",
    "    ############################################## Optional ##############################################\n",
    "    def draw_policy(self, optimal_values):\n",
    "        ACTIONS_FIGS = ['←', '↑', '→', '↓']\n",
    "        fig, ax = plt.subplots()\n",
    "        ax.set_axis_off()\n",
    "        tb = Table(ax, bbox=[0, 0, 1, 1])\n",
    "\n",
    "        nrows, ncols = optimal_values.shape\n",
    "        width, height = 1.0 / ncols, 1.0 / nrows\n",
    "\n",
    "        # Add cells\n",
    "        for (i, j), val in np.ndenumerate(optimal_values):\n",
    "            next_vals = []\n",
    "            for action in range(env.nA):\n",
    "                next_state, _ = self.act(i*4+j, action)\n",
    "                next_state = self.decode(next_state)\n",
    "                next_vals.append(optimal_values[next_state[0], next_state[1]])\n",
    "\n",
    "            best_actions = np.where(next_vals == np.max(next_vals))[0]\n",
    "            val = ''\n",
    "            for ba in best_actions:\n",
    "                val += ACTIONS_FIGS[ba]\n",
    "            tb.add_cell(i, j, width, height, text=val,\n",
    "                        loc='center', facecolor='white')\n",
    "\n",
    "        # Row and column labels...\n",
    "        for i in range(len(optimal_values)):\n",
    "            tb.add_cell(i, -1, width, height, text=i+1, loc='right',\n",
    "                        edgecolor='none', facecolor='none')\n",
    "            tb.add_cell(-1, i, width, height/2, text=i+1, loc='center',\n",
    "                        edgecolor='none', facecolor='none')\n",
    "\n",
    "        ax.add_table(tb)\n",
    "\n",
    "    def draw_image(self, image):\n",
    "        fig, ax = plt.subplots()\n",
    "        ax.set_axis_off()\n",
    "        tb = Table(ax, bbox=[0, 0, 1, 1])\n",
    "\n",
    "        nrows, ncols = image.shape\n",
    "        width, height = 1.0 / ncols, 1.0 / nrows\n",
    "\n",
    "        # Add cells\n",
    "        for (i, j), val in np.ndenumerate(image):\n",
    "            tb.add_cell(i, j, width, height, text=val,\n",
    "                        loc='center', facecolor='white')\n",
    "\n",
    "            # Row and column labels...\n",
    "        for i in range(len(image)):\n",
    "            tb.add_cell(i, -1, width, height, text=i+1, loc='right',\n",
    "                        edgecolor='none', facecolor='none')\n",
    "            tb.add_cell(-1, i, width, height/2, text=i+1, loc='center',\n",
    "                        edgecolor='none', facecolor='none')\n",
    "        ax.add_table(tb)\n"
   ]
  },
  {
   "cell_type": "code",
   "execution_count": 3,
   "metadata": {},
   "outputs": [
    {
     "name": "stdout",
     "output_type": "stream",
     "text": [
      "(2, -1)→(3, -1)→(3, -1)→(3, -1)→(3, -1)→(3, -1)\n"
     ]
    }
   ],
   "source": [
    "env=GridWorld()\n",
    "env.reset()\n",
    "for _ in range(5):\n",
    "    print(env.step(2),end = '→')\n",
    "print(env.step(2))"
   ]
  },
  {
   "cell_type": "markdown",
   "metadata": {},
   "source": [
    "## Section 2: Policy Iteration\n",
    "\n",
    "<img src=\"https://i.loli.net/2021/03/23/x4LwqiNTUh7ycKC.png\" style=\"width: 800px;\" center/>\n",
    "<img src=\"https://i.loli.net/2021/03/23/ma6qHyOAUklshQv.png\" style=\"width: 800px;\" center/>\n"
   ]
  },
  {
   "cell_type": "code",
   "execution_count": 4,
   "metadata": {},
   "outputs": [],
   "source": [
    "def policy_evaluation(policy, env, discount_factor=1.0, theta=1e-5):\n",
    "    \"\"\"\n",
    "    Implement the policy evluation algorithm here given a policy and a complete model of the environment.\n",
    "    \n",
    "    \n",
    "    Arguments:\n",
    "        policy: [S, A] shaped matrix representing the policy.\n",
    "        env: OpenAI env. env.P represents the transition probabilities of the environment.\n",
    "            env.P[s][a] is a list of transition tuples (prob, next_state, reward, done).\n",
    "            env.nS is a number of states in the environment. \n",
    "            env.nA is a number of actions in the environment.\n",
    "        theta: This is the minimum threshold for the error in two consecutive iteration of the value function.\n",
    "        discount_factor: This is the discount factor - Gamma.\n",
    "    \n",
    "    Returns:\n",
    "        Vector of length env.nS representing the value function.\n",
    "    \"\"\"\n",
    "    V = np.zeros(env.nS)\n",
    "    \n",
    "    counter = 0\n",
    "    \n",
    "    while True:\n",
    "        counter += 1\n",
    "        delta = 0\n",
    "        for s in range(env.nS):\n",
    "            vNew = 0\n",
    "            for a in range(env.nA):\n",
    "                for prob, nextState, reward, done in env.P[s][a]:\n",
    "                    vNew+=policy[s][a] * prob * (reward + discount_factor*V[nextState])\n",
    "            \n",
    "            delta = max(delta, np.abs(V[s]-vNew))\n",
    "            V[s] = vNew\n",
    "                \n",
    "        if delta < theta:\n",
    "            break\n",
    "\n",
    "    return np.array(V)\n"
   ]
  },
  {
   "cell_type": "code",
   "execution_count": 5,
   "metadata": {},
   "outputs": [],
   "source": [
    "def policy_iteration(env, policy_eval_fn=policy_evaluation, discount_factor=1.0):\n",
    "    \"\"\"\n",
    "    Implement the Policy Improvement Algorithm here which iteratively evaluates and improves a policy\n",
    "    until an optimal policy is found.\n",
    "    \n",
    "    Arguments:\n",
    "        env: The OpenAI envrionment.\n",
    "        policy_eval_fn: Policy Evaluation function that takes 3 arguments:\n",
    "            policy, env, discount_factor.\n",
    "        discount_factor: gamma discount factor.\n",
    "        \n",
    "    Returns:\n",
    "        A tuple (policy, V). \n",
    "        policy is the optimal policy, a matrix of shape [S, A] where each state s\n",
    "        contains a valid probability distribution over actions.\n",
    "        V is the value function for the optimal policy.\n",
    "        \n",
    "    \"\"\"\n",
    "    def one_step_lookahead(state, V):\n",
    "        \"\"\"\n",
    "        Implement the function to calculate the value for all actions in a given state.\n",
    "        \n",
    "        Arguments:\n",
    "            state: The state to consider (int)\n",
    "            V: The value to use as an estimator, Vector of length env.nS\n",
    "        \n",
    "        Returns:\n",
    "            A vector of length env.nA containing the expected value of each action.\n",
    "        \"\"\"\n",
    "        A = np.zeros(env.nA)\n",
    "        for a in range(env.nA):\n",
    "            for prob, nextState, reward, done in env.P[state][a]:\n",
    "                A[a] += prob * (reward + discount_factor * V[nextState])\n",
    "        return A\n",
    "\n",
    "    policy = np.ones([env.nS, env.nA]) / env.nA\n",
    "    \n",
    "    numIterations = 0\n",
    "\n",
    "    while True:\n",
    "        numIterations += 1\n",
    "        \n",
    "        V = policy_eval_fn(policy, env, discount_factor)\n",
    "        policyStable = True\n",
    "        for s in range(env.nS):\n",
    "            oldAction = np.argmax(policy[s])\n",
    "            qValues = one_step_lookahead(s, V)\n",
    "            newAction = np.argmax(qValues)\n",
    "            if oldAction != newAction:\n",
    "                policyStable = False \n",
    "            policy[s] = np.zeros([env.nA])\n",
    "            policy[s][newAction] = 1\n",
    "\n",
    "        if policyStable:\n",
    "            return policy, V\n",
    "    \n",
    "    return policy, np.zeros(env.env.nS)"
   ]
  },
  {
   "cell_type": "code",
   "execution_count": 6,
   "metadata": {},
   "outputs": [
    {
     "data": {
      "image/png": "[encoded data removed]",
      "text/plain": [
       "<Figure size 432x288 with 1 Axes>"
      ]
     },
     "metadata": {
      "needs_background": "light"
     },
     "output_type": "display_data"
    },
    {
     "data": {
      "image/png": "[encoded data removed]",
      "text/plain": [
       "<Figure size 432x288 with 1 Axes>"
      ]
     },
     "metadata": {
      "needs_background": "light"
     },
     "output_type": "display_data"
    }
   ],
   "source": [
    "policyPI, valuePI = policy_iteration(env, discount_factor=1.0)\n",
    "env.draw_image(np.round(valuePI.reshape(4,4), decimals=2))\n",
    "plt.show()\n",
    "env.draw_policy(valuePI.reshape(4,4))\n"
   ]
  },
  {
   "cell_type": "markdown",
   "metadata": {},
   "source": [
    "## An Interesting Observation\n",
    "\n",
    "* Currently, we initialize the state values to 0 in Policy Evaluation. If we initialize the state values to 1, what will happen? Think about the reason.\n",
    "\n",
    "* What if we set the discount factor to 0.9? Try it.\n",
    "\n",
    "\n"
   ]
  },
  {
   "cell_type": "markdown",
   "metadata": {},
   "source": [
    "## Section 2: Value Iteration\n",
    "<img src=\"https://i.loli.net/2021/03/23/eHjkaPwEdKY2Jvq.png\" style=\"width: 800px;\" center/>\n"
   ]
  },
  {
   "cell_type": "markdown",
   "metadata": {},
   "source": [
    "## A Trick:\n",
    "In-place operation: An in-place operation is an operation that changes directly the content of a given Tensor without making a copy.\n",
    "In our course, we assume that iterative algorithms are implemented in in-place manner."
   ]
  },
  {
   "cell_type": "markdown",
   "metadata": {},
   "source": [
    "## Caveat:\n",
    "In NumPy, assignment operation '=' makes a pointer of an variable. Please use 'copy' when you need to create a copy of an variable."
   ]
  },
  {
   "cell_type": "code",
   "execution_count": 7,
   "metadata": {},
   "outputs": [
    {
     "name": "stdout",
     "output_type": "stream",
     "text": [
      "True\n",
      "False\n"
     ]
    }
   ],
   "source": [
    "x_1=np.ones(4)\n",
    "x_2=x_1\n",
    "x_3=x_1.copy()\n",
    "print(x_2 is x_1)\n",
    "print(x_3 is x_1)"
   ]
  },
  {
   "cell_type": "code",
   "execution_count": 8,
   "metadata": {},
   "outputs": [],
   "source": [
    "def value_iteration(env, theta=0.00001, discount_factor=1.0, in_place=True):\n",
    "    \"\"\"\n",
    "    This section is for Value Iteration Algorithm.\n",
    "    \n",
    "    Arguments:\n",
    "        env: OpenAI env. env.P represents the transition probabilities of the environment.\n",
    "            env.P[s][a] is a list of transition tuples (prob, next_state, reward, done).\n",
    "            env.nS is a number of states in the environment. \n",
    "            env.nA is a number of actions in the environment.\n",
    "        theta: Stop evaluation once value function change is less than theta for all states.\n",
    "        discount_factor: Gamma discount factor.\n",
    "        \n",
    "    Returns:\n",
    "        A tuple (policy, V) of the optimal policy and the optimal value function.        \n",
    "    \"\"\"\n",
    "    \n",
    "    def one_step_lookahead(state, V):\n",
    "        \"\"\"\n",
    "        Function to calculate the value for all actions in a given state.\n",
    "        \n",
    "        Arguments:\n",
    "            state: The state to consider (int)\n",
    "            V: The value to use as an estimator, Vector of length env.nS\n",
    "        \n",
    "        Returns:\n",
    "            A vector of length env.nA containing the expected value of each action.\n",
    "        \"\"\"\n",
    "        A = np.zeros(env.nA)\n",
    "        for a in range(env.nA):\n",
    "            for prob, nextState, reward, done in env.P[state][a]:\n",
    "                A[a] += prob * (reward + discount_factor * V[nextState])\n",
    "\n",
    "        return A\n",
    "    \n",
    "    V = np.zeros(env.nS)\n",
    "    \n",
    "    numIterations = 0\n",
    "    \n",
    "    while True:\n",
    "        numIterations += 1\n",
    "        delta = 0\n",
    "        if in_place:\n",
    "            old_V=V\n",
    "        else:\n",
    "            old_V=V.copy()\n",
    "        \n",
    "        for s in range(env.nS):\n",
    "            qValues = one_step_lookahead(s, old_V)\n",
    "            newValue = np.max(qValues)\n",
    "            \n",
    "            delta = max(delta, np.abs(newValue - old_V[s]))\n",
    "            V[s] = newValue\n",
    "        \n",
    "        if delta < theta:\n",
    "            break\n",
    "    \n",
    "    policy = np.zeros([env.nS, env.nA])\n",
    "    for s in range(env.nS):  #for all states, create deterministic policy\n",
    "        qValues = one_step_lookahead(s,V)\n",
    "        \n",
    "        newAction = np.argmax(qValues)\n",
    "        policy[s][newAction] = 1\n",
    "    \n",
    "    print(numIterations)    \n",
    "    return policy, V"
   ]
  },
  {
   "cell_type": "code",
   "execution_count": 9,
   "metadata": {},
   "outputs": [
    {
     "name": "stdout",
     "output_type": "stream",
     "text": [
      "4\n"
     ]
    },
    {
     "data": {
      "image/png": "[encoded data removed]",
      "text/plain": [
       "<Figure size 432x288 with 1 Axes>"
      ]
     },
     "metadata": {
      "needs_background": "light"
     },
     "output_type": "display_data"
    },
    {
     "data": {
      "image/png": "[encoded data removed]",
      "text/plain": [
       "<Figure size 432x288 with 1 Axes>"
      ]
     },
     "metadata": {
      "needs_background": "light"
     },
     "output_type": "display_data"
    }
   ],
   "source": [
    "policyVI, valueVI = value_iteration(env, discount_factor=0.8, in_place=0)\n",
    "env.draw_image(np.round(valueVI.reshape(4,4), decimals=2))\n",
    "plt.show()\n",
    "env.draw_policy(valueVI.reshape(4,4))\n"
   ]
  },
  {
   "cell_type": "markdown",
   "metadata": {},
   "source": [
    "## Exercise: Taxi-v3"
   ]
  },
  {
   "cell_type": "markdown",
   "metadata": {},
   "source": [
    "This task was introduced in [Dietterich2000] to illustrate some issues in hierarchical reinforcement learning. There are 4 locations (labeled by different letters) and your job is to pick up the passenger at one location and drop him off in another. You receive +20 points for a successful dropoff, and lose 1 point for every timestep it takes. There is also a 10 point penalty for illegal pick-up and drop-off actions.\n",
    "\n",
    "Exercise:\n",
    "* Perform Policy Iteration & Value Iteration on this task\n",
    "* Compare the numer of iterations for in-place and out-of-place update\n",
    "* Compare the optimal policies\n",
    "* Run the optimal policy on thi task"
   ]
  },
  {
   "cell_type": "code",
   "execution_count": 10,
   "metadata": {},
   "outputs": [
    {
     "data": {
      "text/plain": [
       "386"
      ]
     },
     "execution_count": 10,
     "metadata": {},
     "output_type": "execute_result"
    }
   ],
   "source": [
    "env = gym.make('Taxi-v3')   # Here you set the environment\n",
    "env._max_episode_steps = 40000\n",
    "env.reset()"
   ]
  },
  {
   "cell_type": "code",
   "execution_count": 11,
   "metadata": {},
   "outputs": [
    {
     "data": {
      "image/png": "[encoded data removed]",
      "text/plain": [
       "<Figure size 3600x468 with 1 Axes>"
      ]
     },
     "metadata": {
      "needs_background": "light"
     },
     "output_type": "display_data"
    }
   ],
   "source": [
    "policyPI, valuePI = policy_iteration(env, discount_factor=0.8)\n",
    "plt.figure(figsize=(50, 6.5))\n",
    "plt.imshow(policyPI.T, cmap=plt.cm.Blues)\n",
    "plt.show()"
   ]
  },
  {
   "cell_type": "code",
   "execution_count": 12,
   "metadata": {},
   "outputs": [
    {
     "name": "stdout",
     "output_type": "stream",
     "text": [
      "38\n"
     ]
    },
    {
     "data": {
      "image/png": "[encoded data removed]",
      "text/plain": [
       "<Figure size 3600x468 with 1 Axes>"
      ]
     },
     "metadata": {
      "needs_background": "light"
     },
     "output_type": "display_data"
    }
   ],
   "source": [
    "policyVI, valueVI = value_iteration(env, discount_factor=0.8,in_place=1)\n",
    "plt.figure(figsize=(50, 6.5))\n",
    "plt.imshow(policyVI.T, cmap=plt.cm.Blues)\n",
    "plt.show()"
   ]
  },
  {
   "cell_type": "code",
   "execution_count": 13,
   "metadata": {},
   "outputs": [
    {
     "name": "stdout",
     "output_type": "stream",
     "text": [
      "67\n"
     ]
    },
    {
     "data": {
      "image/png": "[encoded data removed]",
      "text/plain": [
       "<Figure size 3600x468 with 1 Axes>"
      ]
     },
     "metadata": {
      "needs_background": "light"
     },
     "output_type": "display_data"
    }
   ],
   "source": [
    "policyVI, valueVI = value_iteration(env, discount_factor=0.8,in_place=0)\n",
    "plt.figure(figsize=(50, 6.5))\n",
    "plt.imshow(policyVI.T, cmap=plt.cm.Blues)\n",
    "plt.show()"
   ]
  },
  {
   "cell_type": "code",
   "execution_count": 14,
   "metadata": {},
   "outputs": [
    {
     "data": {
      "text/plain": [
       "Text(0, 0.5, 'Number of Steps')"
      ]
     },
     "execution_count": 14,
     "metadata": {},
     "output_type": "execute_result"
    },
    {
     "data": {
      "image/png": "[encoded data removed]",
      "text/plain": [
       "<Figure size 432x288 with 1 Axes>"
      ]
     },
     "metadata": {
      "needs_background": "light"
     },
     "output_type": "display_data"
    }
   ],
   "source": [
    "# Use the following function to see the rendering of the final policy output in the environment\n",
    "def view_policy(policy):\n",
    "    curr_state = env.reset()\n",
    "    counter = 0\n",
    "    reward = None\n",
    "    while reward != 20:\n",
    "        state, reward, done, info = env.step(np.argmax(policy[curr_state])) \n",
    "        curr_state = state\n",
    "        counter += 1\n",
    "        env.env.s = curr_state\n",
    "        #env.render()\n",
    "    \n",
    "    return counter\n",
    "polCounter = [view_policy(policyPI) for i in range(1000)]\n",
    "plt.hist(polCounter) \n",
    "plt.xlabel('Episode') \n",
    "plt.ylabel('Number of Steps') "
   ]
  },
  {
   "cell_type": "code",
   "execution_count": null,
   "metadata": {},
   "outputs": [],
   "source": []
  }
 ],
 "metadata": {
  "kernelspec": {
   "display_name": "Tianshou",
   "language": "python",
   "name": "ts"
  },
  "language_info": {
   "codemirror_mode": {
    "name": "ipython",
    "version": 3
   },
   "file_extension": ".py",
   "mimetype": "text/x-python",
   "name": "python",
   "nbconvert_exporter": "python",
   "pygments_lexer": "ipython3",
   "version": "3.6.11"
  }
 },
 "nbformat": 4,
 "nbformat_minor": 4
}
